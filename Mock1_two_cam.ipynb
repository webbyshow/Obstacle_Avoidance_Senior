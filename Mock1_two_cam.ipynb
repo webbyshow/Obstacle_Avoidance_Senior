{
 "cells": [
  {
   "cell_type": "markdown",
   "metadata": {},
   "source": [
    "# Import Section"
   ]
  },
  {
   "cell_type": "code",
   "execution_count": 2,
   "metadata": {},
   "outputs": [],
   "source": [
    "import os\n",
    "import numpy as np\n",
    "import matplotlib.pyplot as plt\n",
    "import cv2\n",
    "import time"
   ]
  },
  {
   "cell_type": "markdown",
   "metadata": {},
   "source": [
    "# Connect to Camera"
   ]
  },
  {
   "cell_type": "code",
   "execution_count": null,
   "metadata": {},
   "outputs": [
    {
     "name": "stdout",
     "output_type": "stream",
     "text": [
      "Error: ไม่สามารถเปิดกล้องได้\n",
      "เริ่มบันทึกภาพอัตโนมัติทุกๆ 0.1 วินาที เป็นเวลา 50 วินาที...\n",
      "Error: อ่านเฟรมจากกล้องไม่สำเร็จ\n"
     ]
    },
    {
     "ename": "",
     "evalue": "",
     "output_type": "error",
     "traceback": [
      "\u001b[1;31mThe Kernel crashed while executing code in the current cell or a previous cell. \n",
      "\u001b[1;31mPlease review the code in the cell(s) to identify a possible cause of the failure. \n",
      "\u001b[1;31mClick <a href='https://aka.ms/vscodeJupyterKernelCrash'>here</a> for more info. \n",
      "\u001b[1;31mView Jupyter <a href='command:jupyter.viewOutput'>log</a> for further details."
     ]
    }
   ],
   "source": [
    "import cv2\n",
    "import os\n",
    "import time\n",
    "\n",
    "# กำหนดโฟลเดอร์สำหรับเซฟรูปภาพ\n",
    "left_folder = r\"C:\\Users\\webin\\OneDrive\\Desktop\\For Senior Video\\Mock_two_cam_26_Nov\\Left1\"\n",
    "right_folder = r\"C:\\Users\\webin\\OneDrive\\Desktop\\For Senior Video\\Mock_two_cam_26_Nov\\Right1\"\n",
    "\n",
    "# สร้างโฟลเดอร์หากยังไม่มี\n",
    "os.makedirs(left_folder, exist_ok=True)\n",
    "os.makedirs(right_folder, exist_ok=True)\n",
    "\n",
    "# เปิดทั้งสองกล้อง (ใช้ Index 1 และ 2)\n",
    "cap_left = cv2.VideoCapture(2)  # กล้องขวา\n",
    "cap_right = cv2.VideoCapture(1)  # กล้องซ้าย\n",
    "\n",
    "# ตรวจสอบว่าทั้งสองกล้องเปิดสำเร็จ\n",
    "if not cap_left.isOpened() or not cap_right.isOpened():\n",
    "    print(\"Error: ไม่สามารถเปิดกล้องได้\")\n",
    "    cap_left.release()\n",
    "    cap_right.release()\n",
    "    exit()\n",
    "\n",
    "# ตัวนับสำหรับชื่อไฟล์\n",
    "left_counter = 0\n",
    "right_counter = 0\n",
    "\n",
    "# ตั้งค่าเวลาเริ่มต้นและเวลาสิ้นสุด\n",
    "start_time = time.time()\n",
    "duration = 50  # ระยะเวลาบันทึกภาพ 10 วินาที\n",
    "interval = 0.1  # ความถี่ในการบันทึกภาพ (0.1 วินาที)\n",
    "\n",
    "print(f\"เริ่มบันทึกภาพอัตโนมัติทุกๆ {interval} วินาที เป็นเวลา {duration} วินาที...\")\n",
    "\n",
    "while True:\n",
    "    # อ่านเฟรมจากทั้งสองกล้อง\n",
    "    ret_left, frame_left = cap_left.read()\n",
    "    ret_right, frame_right = cap_right.read()\n",
    "\n",
    "    if not ret_left or not ret_right:\n",
    "        print(\"Error: อ่านเฟรมจากกล้องไม่สำเร็จ\")\n",
    "        break\n",
    "\n",
    "    # เวลาปัจจุบัน\n",
    "    current_time = time.time()\n",
    "\n",
    "    # ถ้าผ่านไปตาม interval ให้บันทึกภาพ\n",
    "    if current_time - start_time >= interval:\n",
    "        # สร้างชื่อไฟล์และเซฟรูปภาพ\n",
    "        left_filename = os.path.join(left_folder, f\"left_{left_counter:04d}.jpg\")\n",
    "        right_filename = os.path.join(right_folder, f\"right_{right_counter:04d}.jpg\")\n",
    "\n",
    "        #cv2.imwrite(left_filename, frame_left)\n",
    "        #cv2.imwrite(right_filename, frame_right)\n",
    "\n",
    "        print(f\"เซฟรูปภาพ: {left_filename} และ {right_filename}\")\n",
    "\n",
    "        # เพิ่มตัวนับ\n",
    "        left_counter += 1\n",
    "        right_counter += 1\n",
    "\n",
    "        # อัปเดตเวลาเริ่มต้นรอบใหม่\n",
    "        start_time = current_time\n",
    "\n",
    "    # แสดงภาพจากทั้งสองกล้อง\n",
    "    cv2.imshow(\"Left Camera\", frame_left)\n",
    "    cv2.imshow(\"Right Camera\", frame_right)\n",
    "\n",
    "    # ออกจากลูปหากเกินระยะเวลา 10 วินาที หรือกด 'q'\n",
    "    if current_time - start_time > duration or cv2.waitKey(1) & 0xFF == ord('q'):\n",
    "        print(\"สิ้นสุดการบันทึกภาพ...\")\n",
    "        break\n",
    "\n",
    "# ปล่อยทรัพยากร\n",
    "cap_left.release()\n",
    "cap_right.release()\n",
    "cv2.destroyAllWindows()\n"
   ]
  },
  {
   "cell_type": "markdown",
   "metadata": {},
   "source": [
    "# Capture for calibration"
   ]
  },
  {
   "cell_type": "code",
   "execution_count": null,
   "metadata": {},
   "outputs": [
    {
     "name": "stdout",
     "output_type": "stream",
     "text": [
      "Error: ไม่สามารถเปิดกล้องได้\n",
      "กด 'spacebar' เพื่อถ่ายภาพ กด 'q' เพื่อออกจากโปรแกรม\n",
      "Error: อ่านเฟรมจากกล้องไม่สำเร็จ\n"
     ]
    },
    {
     "ename": "",
     "evalue": "",
     "output_type": "error",
     "traceback": [
      "\u001b[1;31mThe Kernel crashed while executing code in the current cell or a previous cell. \n",
      "\u001b[1;31mPlease review the code in the cell(s) to identify a possible cause of the failure. \n",
      "\u001b[1;31mClick <a href='https://aka.ms/vscodeJupyterKernelCrash'>here</a> for more info. \n",
      "\u001b[1;31mView Jupyter <a href='command:jupyter.viewOutput'>log</a> for further details."
     ]
    }
   ],
   "source": [
    "import cv2\n",
    "import os\n",
    "\n",
    "# กำหนดโฟลเดอร์สำหรับเซฟรูปภาพ\n",
    "left_folder = r\"C:\\Users\\webin\\OneDrive\\Desktop\\For Senior Video\\Calibrate\\Left\"\n",
    "right_folder = r\"C:\\Users\\webin\\OneDrive\\Desktop\\For Senior Video\\Calibrate\\Right\"\n",
    "\n",
    "# สร้างโฟลเดอร์หากยังไม่มี\n",
    "os.makedirs(left_folder, exist_ok=True)\n",
    "os.makedirs(right_folder, exist_ok=True)\n",
    "\n",
    "# เปิดทั้งสองกล้อง (ใช้ Index 1 และ 2)\n",
    "cap_left = cv2.VideoCapture(2)  # กล้องขวา\n",
    "cap_right = cv2.VideoCapture(1)  # กล้องซ้าย\n",
    "\n",
    "# ตรวจสอบว่าทั้งสองกล้องเปิดสำเร็จ\n",
    "if not cap_left.isOpened() or not cap_right.isOpened():\n",
    "    print(\"Error: ไม่สามารถเปิดกล้องได้\")\n",
    "    cap_left.release()\n",
    "    cap_right.release()\n",
    "    exit()\n",
    "\n",
    "# ตัวนับสำหรับชื่อไฟล์\n",
    "left_counter = 0\n",
    "right_counter = 0\n",
    "\n",
    "print(\"กด 'spacebar' เพื่อถ่ายภาพ กด 'q' เพื่อออกจากโปรแกรม\")\n",
    "\n",
    "while True:\n",
    "    # อ่านเฟรมจากทั้งสองกล้อง\n",
    "    ret_left, frame_left = cap_left.read()\n",
    "    ret_right, frame_right = cap_right.read()\n",
    "\n",
    "    if not ret_left or not ret_right:\n",
    "        print(\"Error: อ่านเฟรมจากกล้องไม่สำเร็จ\")\n",
    "        break\n",
    "\n",
    "    # แสดงภาพจากทั้งสองกล้อง\n",
    "    cv2.imshow(\"Left Camera\", frame_left)\n",
    "    cv2.imshow(\"Right Camera\", frame_right)\n",
    "\n",
    "    # ตรวจสอบการกดปุ่ม\n",
    "    key = cv2.waitKey(1) & 0xFF\n",
    "\n",
    "    if key == ord(' '):  # กด spacebar เพื่อถ่ายภาพ\n",
    "        # สร้างชื่อไฟล์และเซฟรูปภาพ\n",
    "        left_filename = os.path.join(left_folder, f\"left_{left_counter:04d}.jpg\")\n",
    "        right_filename = os.path.join(right_folder, f\"right_{right_counter:04d}.jpg\")\n",
    "\n",
    "        cv2.imwrite(left_filename, frame_left)\n",
    "        cv2.imwrite(right_filename, frame_right)\n",
    "\n",
    "        print(f\"เซฟรูปภาพ: {left_filename} และ {right_filename}\")\n",
    "\n",
    "        # เพิ่มตัวนับ\n",
    "        left_counter += 1\n",
    "        right_counter += 1\n",
    "\n",
    "    elif key == ord('q'):  # กด 'q' เพื่อออกจากโปรแกรม\n",
    "        print(\"สิ้นสุดการบันทึกภาพ...\")\n",
    "        break\n",
    "\n",
    "# ปล่อยทรัพยากร\n",
    "cap_left.release()\n",
    "cap_right.release()\n",
    "cv2.destroyAllWindows()\n"
   ]
  },
  {
   "cell_type": "code",
   "execution_count": null,
   "metadata": {},
   "outputs": [],
   "source": []
  },
  {
   "cell_type": "markdown",
   "metadata": {},
   "source": []
  }
 ],
 "metadata": {
  "kernelspec": {
   "display_name": "base",
   "language": "python",
   "name": "python3"
  },
  "language_info": {
   "codemirror_mode": {
    "name": "ipython",
    "version": 3
   },
   "file_extension": ".py",
   "mimetype": "text/x-python",
   "name": "python",
   "nbconvert_exporter": "python",
   "pygments_lexer": "ipython3",
   "version": "3.12.4"
  }
 },
 "nbformat": 4,
 "nbformat_minor": 2
}
